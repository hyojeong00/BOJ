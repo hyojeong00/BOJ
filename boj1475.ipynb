{
 "cells": [
  {
   "cell_type": "code",
   "execution_count": null,
   "id": "83eb05b6-ecbf-4512-8a14-3de7a39aac3e",
   "metadata": {},
   "outputs": [],
   "source": [
    "n=list(input())\n",
    "li=[]\n",
    "dic={}\n",
    "for i in n:\n",
    "    temp=i.replace('6','9')  #6을 9로 대체\n",
    "    li.append(temp)\n",
    "\n",
    "for i in li:\n",
    "    if i=='9':\n",
    "        dic[i]=(li.count(i)+0.000005)/2  #round 내림 방지\n",
    "    else:\n",
    "        dic[i]=li.count(i)\n",
    "\n",
    "print(round(max(dic.values())))"
   ]
  }
 ],
 "metadata": {
  "kernelspec": {
   "display_name": "Python 3",
   "language": "python",
   "name": "python3"
  },
  "language_info": {
   "codemirror_mode": {
    "name": "ipython",
    "version": 3
   },
   "file_extension": ".py",
   "mimetype": "text/x-python",
   "name": "python",
   "nbconvert_exporter": "python",
   "pygments_lexer": "ipython3",
   "version": "3.8.8"
  }
 },
 "nbformat": 4,
 "nbformat_minor": 5
}
