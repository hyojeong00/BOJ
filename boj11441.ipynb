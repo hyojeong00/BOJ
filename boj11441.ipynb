{
 "cells": [
  {
   "cell_type": "code",
   "execution_count": null,
   "id": "fe6d60ba-998c-445a-afe8-93e6f9ace50a",
   "metadata": {},
   "outputs": [
    {
     "name": "stdin",
     "output_type": "stream",
     "text": [
      " 5\n",
      " 10 20 30 40 50\n"
     ]
    },
    {
     "name": "stdout",
     "output_type": "stream",
     "text": [
      "[10, 30, 60, 100, 150]\n"
     ]
    },
    {
     "name": "stdin",
     "output_type": "stream",
     "text": [
      " 5\n",
      " 1 3\n"
     ]
    },
    {
     "name": "stdout",
     "output_type": "stream",
     "text": [
      "-90\n"
     ]
    }
   ],
   "source": [
    "import sys\n",
    "input=sys.stdin.readline\n",
    "\n",
    "n=int(input().rstrip())\n",
    "arr=list(map(int,input().split()))\n",
    "\n",
    "prefix=[]\n",
    "temp=0\n",
    "for i in arr:\n",
    "    temp+=i\n",
    "    prefix.append(temp)\n",
    "\n",
    "#print(prefix)\n",
    "m=int(input().rstrip())\n",
    "for x in range(m):\n",
    "    i,j=map(int,input().split())\n",
    "    if i==1:\n",
    "        print(prefix[j-1])  \n",
    "        #i가 1이면 처음부터 더하는것이기 떄문에 j-1의 값을 출력       \n",
    "    else:\n",
    "        print(prefix[j-1]-prefix[i-2])"
   ]
  },
  {
   "cell_type": "code",
   "execution_count": null,
   "id": "dae5fd38-d147-48c3-b3c4-de917cc6f8d5",
   "metadata": {},
   "outputs": [],
   "source": []
  }
 ],
 "metadata": {
  "kernelspec": {
   "display_name": "Python 3 (ipykernel)",
   "language": "python",
   "name": "python3"
  },
  "language_info": {
   "codemirror_mode": {
    "name": "ipython",
    "version": 3
   },
   "file_extension": ".py",
   "mimetype": "text/x-python",
   "name": "python",
   "nbconvert_exporter": "python",
   "pygments_lexer": "ipython3",
   "version": "3.9.7"
  }
 },
 "nbformat": 4,
 "nbformat_minor": 5
}
