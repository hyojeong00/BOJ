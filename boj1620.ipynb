{
 "cells": [
  {
   "cell_type": "code",
   "execution_count": 32,
   "id": "53e63caa-a11e-437b-acc8-a6de37fc0e57",
   "metadata": {},
   "outputs": [
    {
     "name": "stdin",
     "output_type": "stream",
     "text": [
      " 3 3\n",
      " Buldasaur\n",
      " Ivysaur\n",
      " Venusaur\n",
      " 3\n"
     ]
    },
    {
     "name": "stdout",
     "output_type": "stream",
     "text": [
      "Venusaur\n"
     ]
    },
    {
     "name": "stdin",
     "output_type": "stream",
     "text": [
      " 1\n"
     ]
    },
    {
     "name": "stdout",
     "output_type": "stream",
     "text": [
      "Buldasaur\n"
     ]
    },
    {
     "name": "stdin",
     "output_type": "stream",
     "text": [
      " Buldasaur\n"
     ]
    },
    {
     "name": "stdout",
     "output_type": "stream",
     "text": [
      "1\n"
     ]
    }
   ],
   "source": [
    "n,m=map(int,input().split())\n",
    "dic={}\n",
    "\n",
    "for i in range(n):\n",
    "    a=input()\n",
    "    dic[a]=i+1\n",
    "\n",
    "for i in range(m):\n",
    "    a=input()\n",
    "    if a.isalpha()==False:\n",
    "        a=int(a)\n",
    "        print(list(dic.keys())[a-1])\n",
    "    else:\n",
    "        print(dic.get(a))"
   ]
  },
  {
   "cell_type": "code",
   "execution_count": 34,
   "id": "399b4781-89d9-4e1a-be5c-e1f12781cdb0",
   "metadata": {},
   "outputs": [
    {
     "name": "stdin",
     "output_type": "stream",
     "text": [
      " 3 3\n",
      " a\n",
      " b\n",
      " c\n",
      " 1\n"
     ]
    },
    {
     "name": "stdout",
     "output_type": "stream",
     "text": [
      "a\n"
     ]
    },
    {
     "name": "stdin",
     "output_type": "stream",
     "text": [
      " 3\n"
     ]
    },
    {
     "name": "stdout",
     "output_type": "stream",
     "text": [
      "c\n"
     ]
    },
    {
     "name": "stdin",
     "output_type": "stream",
     "text": [
      " a\n"
     ]
    },
    {
     "name": "stdout",
     "output_type": "stream",
     "text": [
      "1\n"
     ]
    }
   ],
   "source": [
    "n,m=map(int,input().split())\n",
    "dic={}\n",
    "\n",
    "for i in range(1,n+1):\n",
    "    a=input().rstrip()\n",
    "    dic[a]=str(i)\n",
    "    dic[str(i)]=a\n",
    "\n",
    "for i in range(m):\n",
    "    print(dic[input()])"
   ]
  },
  {
   "cell_type": "code",
   "execution_count": null,
   "id": "837d4c06-17a3-41d7-a813-80f4383b1304",
   "metadata": {},
   "outputs": [],
   "source": []
  }
 ],
 "metadata": {
  "kernelspec": {
   "display_name": "Python 3",
   "language": "python",
   "name": "python3"
  },
  "language_info": {
   "codemirror_mode": {
    "name": "ipython",
    "version": 3
   },
   "file_extension": ".py",
   "mimetype": "text/x-python",
   "name": "python",
   "nbconvert_exporter": "python",
   "pygments_lexer": "ipython3",
   "version": "3.8.8"
  }
 },
 "nbformat": 4,
 "nbformat_minor": 5
}
