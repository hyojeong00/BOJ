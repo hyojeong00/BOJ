{
 "cells": [
  {
   "cell_type": "code",
   "execution_count": 17,
   "id": "accfe5c3-0941-4603-a133-68cd7c086941",
   "metadata": {},
   "outputs": [
    {
     "name": "stdin",
     "output_type": "stream",
     "text": [
      " 1\n",
      " ())(()\n"
     ]
    },
    {
     "name": "stdout",
     "output_type": "stream",
     "text": [
      "NO\n"
     ]
    }
   ],
   "source": [
    "a = int(input())\n",
    "\n",
    "for i in range(a):\n",
    "    a = input()\n",
    "    temp = 0\n",
    "    for j in range(len(a)):  #a의 첫번째 요소부터(a[0]부터)\n",
    "        if a[j] == '(':\n",
    "            temp += 1\n",
    "        elif a[j] == ')':\n",
    "            temp -= 1\n",
    "        if temp < 0:\n",
    "            print('NO')   #')'로 시작하면 NO\n",
    "            break\n",
    "\n",
    "    if temp > 0:\n",
    "        print('NO')  #'('가 더 많으면\n",
    "    elif temp == 0:\n",
    "        print('YES')"
   ]
  },
  {
   "cell_type": "code",
   "execution_count": null,
   "id": "03eb6ebb-4709-4f22-b1d5-ecb8c95e0604",
   "metadata": {},
   "outputs": [],
   "source": []
  }
 ],
 "metadata": {
  "kernelspec": {
   "display_name": "Python 3",
   "language": "python",
   "name": "python3"
  },
  "language_info": {
   "codemirror_mode": {
    "name": "ipython",
    "version": 3
   },
   "file_extension": ".py",
   "mimetype": "text/x-python",
   "name": "python",
   "nbconvert_exporter": "python",
   "pygments_lexer": "ipython3",
   "version": "3.8.8"
  }
 },
 "nbformat": 4,
 "nbformat_minor": 5
}
