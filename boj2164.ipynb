{
 "cells": [
  {
   "cell_type": "code",
   "execution_count": 26,
   "id": "5000a0ed-6a7d-41e4-b185-566fde180703",
   "metadata": {},
   "outputs": [
    {
     "name": "stdin",
     "output_type": "stream",
     "text": [
      " 6\n"
     ]
    },
    {
     "name": "stdout",
     "output_type": "stream",
     "text": [
      "4\n"
     ]
    }
   ],
   "source": [
    "import sys\n",
    "input=sys.stdin.readline\n",
    "\n",
    "from collections import deque\n",
    "d=deque()  #데크 사용\n",
    "\n",
    "num=int(input().rstrip())\n",
    "for i in range(1,num+1):\n",
    "    d.append(i)  #1부터 입력 숫자까지 데크에 추가\n",
    "\n",
    "while len(d)>1:  #데크 길이가 1보다 클 경우\n",
    "    d.popleft()  #가장 왼쪽(윗쪽) 지우기\n",
    "    d.append(d.popleft())  #가장 왼쪽을 오른쪽으로 옮기기\n",
    "print(*d)  #그냥 d를 출력할 경우 deque([1]) 이런 형식으로 출력됨"
   ]
  }
 ],
 "metadata": {
  "kernelspec": {
   "display_name": "Python 3 (ipykernel)",
   "language": "python",
   "name": "python3"
  },
  "language_info": {
   "codemirror_mode": {
    "name": "ipython",
    "version": 3
   },
   "file_extension": ".py",
   "mimetype": "text/x-python",
   "name": "python",
   "nbconvert_exporter": "python",
   "pygments_lexer": "ipython3",
   "version": "3.9.7"
  }
 },
 "nbformat": 4,
 "nbformat_minor": 5
}
