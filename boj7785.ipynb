{
 "cells": [
  {
   "cell_type": "code",
   "execution_count": 26,
   "id": "59d1865e-d997-41c7-aa1a-d3b6dec28fc5",
   "metadata": {},
   "outputs": [
    {
     "name": "stdin",
     "output_type": "stream",
     "text": [
      " 4\n",
      " a enter\n",
      " A enter\n",
      " b enter\n",
      " B enter\n"
     ]
    },
    {
     "name": "stdout",
     "output_type": "stream",
     "text": [
      "b\n",
      "a\n",
      "B\n",
      "A\n"
     ]
    }
   ],
   "source": [
    "n=int(input())\n",
    "dic={}\n",
    "\n",
    "for i in range(n):\n",
    "    a=input()\n",
    "    if a.endswith('enter'):\n",
    "        a,b=a.split()\n",
    "        dic[a]=1\n",
    "    elif a.endswith('leave'):\n",
    "        a,b=a.split()\n",
    "        del dic[a]\n",
    "\n",
    "dic_li=list(dic.keys())\n",
    "dic_li = sorted(dic_li,reverse=True)\n",
    "for i in range(len(dic_li)):\n",
    "    print(dic_li[i])"
   ]
  },
  {
   "cell_type": "code",
   "execution_count": 28,
   "id": "b10aca8d-fff0-4be9-98b7-0b21fe0878b1",
   "metadata": {},
   "outputs": [
    {
     "name": "stdin",
     "output_type": "stream",
     "text": [
      " 2\n",
      " a enter\n",
      " A enter\n"
     ]
    },
    {
     "name": "stdout",
     "output_type": "stream",
     "text": [
      "a\n",
      "A\n",
      "['a', 'A']\n",
      "['a', 'A']\n"
     ]
    }
   ],
   "source": [
    "n=int(input())\n",
    "people = dict()\n",
    "for i in range(n):\n",
    "    name, command = input().split()\n",
    "    if command == \"enter\":\n",
    "        people[name]=1\n",
    "    else:\n",
    "        people[name]=0\n",
    "\n",
    "result = []\n",
    "for key in people.keys():\n",
    "    print(key)\n",
    "    if people[key] == 1:\n",
    "        result.append(key)\n",
    "result.sort(reverse = True)\n",
    "for name in result:\n",
    "    print(result)\n",
    "        "
   ]
  },
  {
   "cell_type": "code",
   "execution_count": null,
   "id": "cbc83125-cdfc-4b78-a5e3-e2b232fc8fda",
   "metadata": {},
   "outputs": [],
   "source": []
  }
 ],
 "metadata": {
  "kernelspec": {
   "display_name": "Python 3 (ipykernel)",
   "language": "python",
   "name": "python3"
  },
  "language_info": {
   "codemirror_mode": {
    "name": "ipython",
    "version": 3
   },
   "file_extension": ".py",
   "mimetype": "text/x-python",
   "name": "python",
   "nbconvert_exporter": "python",
   "pygments_lexer": "ipython3",
   "version": "3.9.7"
  }
 },
 "nbformat": 4,
 "nbformat_minor": 5
}
