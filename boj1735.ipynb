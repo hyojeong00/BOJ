{
 "cells": [
  {
   "cell_type": "code",
   "execution_count": 46,
   "id": "0b8b2636",
   "metadata": {},
   "outputs": [
    {
     "name": "stdout",
     "output_type": "stream",
     "text": [
      "1 20\n",
      "1 5\n",
      "1 4\n"
     ]
    }
   ],
   "source": [
    "import sys\n",
    "input=sys.stdin.readline\n",
    "\n",
    "def gcd(a,b):  #최대공약수\n",
    "    if b==0:\n",
    "        return a\n",
    "    else:\n",
    "        return gcd(b,a%b)\n",
    "\n",
    "n,m=map(int,input().split())\n",
    "j,k=map(int,input().split())\n",
    "\n",
    "num=n*k+m*j  #약분 전 분자\n",
    "dem=m*k  #약분 전 분모\n",
    "gcd_=gcd(m,k) #분모끼리의 최대공약수\n",
    "\n",
    "if dem==0:\n",
    "    print('0 1')  \n",
    "\"\"\"\n",
    "분모가 0이면 0 1 출력(반례찾으러 질문검색에서 봤는데\n",
    "이렇게 출력하는게 맞는지는 모르겠음 일단 AC)\n",
    "\"\"\"\n",
    "else:\n",
    "    num=num//gcd_  #약분 후 분자\n",
    "    dem=dem//gcd_  #약분 후 분모\n",
    "    gcd_2=gcd(num,dem)\n",
    "    if gcd_2!=1:  #약분 후의 분모 분자의 최대공약수가 1이 아니면\n",
    "        print(num//gcd_2,dem//gcd_2)  #최대공약수로 나눠서 출력\n",
    "    else:  #약분 후의 분모 분자의 최대공약수가 1이면\n",
    "        print(num,dem)  #그냥출력"
   ]
  },
  {
   "cell_type": "code",
   "execution_count": null,
   "id": "fd9c9b17",
   "metadata": {},
   "outputs": [],
   "source": []
  }
 ],
 "metadata": {
  "kernelspec": {
   "display_name": "Python 3 (ipykernel)",
   "language": "python",
   "name": "python3"
  },
  "language_info": {
   "codemirror_mode": {
    "name": "ipython",
    "version": 3
   },
   "file_extension": ".py",
   "mimetype": "text/x-python",
   "name": "python",
   "nbconvert_exporter": "python",
   "pygments_lexer": "ipython3",
   "version": "3.9.7"
  }
 },
 "nbformat": 4,
 "nbformat_minor": 5
}
