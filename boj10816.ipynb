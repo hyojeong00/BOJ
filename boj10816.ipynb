{
 "cells": [
  {
   "cell_type": "code",
   "execution_count": 46,
   "id": "19027dd0-8305-41ac-9d80-1d6a6c683cb6",
   "metadata": {},
   "outputs": [
    {
     "name": "stdout",
     "output_type": "stream",
     "text": [
      "10\n",
      "6 3 2 10 10 10 -10 -10 7 3\n",
      "8\n",
      "10 9 -5 2 3 4 5 -10\n",
      "3 0 0 1 2 0 0 2 "
     ]
    }
   ],
   "source": [
    "import sys\n",
    "input=sys.stdin.readline\n",
    "\n",
    "n=int(input().rstrip())  #가지고 있는 카드의 개수\n",
    "a=list(map(int,input().split()))  #가지고 있는 카드\n",
    "m=int(input().rstrip())  #구해야할 개수\n",
    "b=list(map(int,input().split()))  #구해야할 숫자\n",
    "\n",
    "dic={}  #가지고 있는 숫자카드를 키, 개수를 값으로 넣어주기\n",
    "for i in range(len(a)):\n",
    "    if a[i] in dic:  #숫자카드가 딕셔너리에 있으면 값+1\n",
    "        dic[a[i]]+=1  \n",
    "    else:\n",
    "        dic[a[i]]=1  #없으면 1\n",
    "\n",
    "for i in range(m):  #구해야할 개수만큼\n",
    "    if b[i] not in dic:  #구해야할 숫자가 딕셔너리에 없으면 0\n",
    "        print(0,end=' ')\n",
    "    else:  #있으면 값을 출력\n",
    "        print(dic[b[i]],end=' ')"
   ]
  },
  {
   "cell_type": "code",
   "execution_count": null,
   "id": "68ba3025",
   "metadata": {},
   "outputs": [],
   "source": []
  }
 ],
 "metadata": {
  "kernelspec": {
   "display_name": "Python 3 (ipykernel)",
   "language": "python",
   "name": "python3"
  },
  "language_info": {
   "codemirror_mode": {
    "name": "ipython",
    "version": 3
   },
   "file_extension": ".py",
   "mimetype": "text/x-python",
   "name": "python",
   "nbconvert_exporter": "python",
   "pygments_lexer": "ipython3",
   "version": "3.9.7"
  }
 },
 "nbformat": 4,
 "nbformat_minor": 5
}
