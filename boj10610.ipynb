{
 "cells": [
  {
   "cell_type": "code",
   "execution_count": 26,
   "id": "ab5afc8e-7297-4609-be4d-b364fa8df166",
   "metadata": {},
   "outputs": [
    {
     "name": "stdin",
     "output_type": "stream",
     "text": [
      " 80875542\n"
     ]
    },
    {
     "name": "stdout",
     "output_type": "stream",
     "text": [
      "88755420\n"
     ]
    }
   ],
   "source": [
    "# 시간초과 코드\n",
    "# import sys\n",
    "# input=sys.stdin.readline\n",
    "\n",
    "num=list(map(int,input().rstrip()))\n",
    "num=sorted(num,reverse=True)\n",
    "# 30의 배수 : 모든 자리 수의 합이 3의 배수, 0이 하나 이상\n",
    "#print(num)\n",
    "if 0 in num:\n",
    "    if sum(num)%3==0:\n",
    "        temp=0\n",
    "        for i in range(len(num)-1):\n",
    "            temp+= num[i] * (10**(len(num)-(i+1)))\n",
    "        print(temp)\n",
    "    else:\n",
    "        print(-1)\n",
    "else:\n",
    "    print(-1)"
   ]
  },
  {
   "cell_type": "code",
   "execution_count": 27,
   "id": "d033a4c4-3646-46a7-ada0-1c248cfdc7cb",
   "metadata": {},
   "outputs": [
    {
     "name": "stdin",
     "output_type": "stream",
     "text": [
      " 80875542\n"
     ]
    },
    {
     "name": "stdout",
     "output_type": "stream",
     "text": [
      "88755420\n"
     ]
    }
   ],
   "source": [
    "# import sys\n",
    "# input=sys.stdin.readline\n",
    "num=list(map(int,input().rstrip()))\n",
    "#num=sorted(num,reverse=True)\n",
    "# 30의 배수 : 모든 자리 수의 합이 3의 배수, 0이 하나 이상\n",
    "#print(num)\n",
    "if 0 in num:\n",
    "    if sum(num)%3==0:\n",
    "        num=sorted(num,reverse=True)\n",
    "        print(''.join(map(str,num)))\n",
    "    else:\n",
    "        print(-1)\n",
    "else:\n",
    "    print(-1)"
   ]
  },
  {
   "cell_type": "code",
   "execution_count": null,
   "id": "0db105c1-fb51-48db-9b1b-18694766c351",
   "metadata": {},
   "outputs": [],
   "source": []
  }
 ],
 "metadata": {
  "kernelspec": {
   "display_name": "Python 3 (ipykernel)",
   "language": "python",
   "name": "python3"
  },
  "language_info": {
   "codemirror_mode": {
    "name": "ipython",
    "version": 3
   },
   "file_extension": ".py",
   "mimetype": "text/x-python",
   "name": "python",
   "nbconvert_exporter": "python",
   "pygments_lexer": "ipython3",
   "version": "3.9.7"
  }
 },
 "nbformat": 4,
 "nbformat_minor": 5
}
