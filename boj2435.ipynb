{
 "cells": [
  {
   "cell_type": "code",
   "execution_count": 41,
   "id": "d1786076-494d-4ad2-95eb-eed0ab0b52f2",
   "metadata": {},
   "outputs": [
    {
     "name": "stdin",
     "output_type": "stream",
     "text": [
      " 10 2\n",
      " 3 -2 -4 -9 0 3 7 13 8 -3\n"
     ]
    },
    {
     "name": "stdout",
     "output_type": "stream",
     "text": [
      "21\n"
     ]
    }
   ],
   "source": [
    "n,k=map(int,input().split())\n",
    "weather=list(map(int,input().split()))\n",
    "\n",
    "comp=-float('inf')\n",
    "\n",
    "for i in range(n-k+1):\n",
    "    temp=0\n",
    "    for j in range(k):\n",
    "        temp+=weather[i+j]\n",
    "    comp=max(temp,comp)\n",
    "\n",
    "print(comp)"
   ]
  },
  {
   "cell_type": "code",
   "execution_count": 38,
   "id": "d9b27cb6-b823-4a65-a0f3-5713a1e84eb6",
   "metadata": {},
   "outputs": [
    {
     "data": {
      "text/plain": [
       "[13, 8, -3]"
      ]
     },
     "execution_count": 38,
     "metadata": {},
     "output_type": "execute_result"
    }
   ],
   "source": [
    "weather[7:(7+k)]"
   ]
  },
  {
   "cell_type": "code",
   "execution_count": null,
   "id": "4cc95092-377d-4f76-b4d9-56fd99145ab0",
   "metadata": {},
   "outputs": [],
   "source": []
  }
 ],
 "metadata": {
  "kernelspec": {
   "display_name": "Python 3 (ipykernel)",
   "language": "python",
   "name": "python3"
  },
  "language_info": {
   "codemirror_mode": {
    "name": "ipython",
    "version": 3
   },
   "file_extension": ".py",
   "mimetype": "text/x-python",
   "name": "python",
   "nbconvert_exporter": "python",
   "pygments_lexer": "ipython3",
   "version": "3.9.7"
  }
 },
 "nbformat": 4,
 "nbformat_minor": 5
}
