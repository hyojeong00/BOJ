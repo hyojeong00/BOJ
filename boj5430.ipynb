{
 "cells": [
  {
   "cell_type": "code",
   "execution_count": 125,
   "id": "fd6c7f83-198b-4f6f-ac9b-572ac886a8f0",
   "metadata": {},
   "outputs": [
    {
     "name": "stdin",
     "output_type": "stream",
     "text": [
      " 4\n",
      " RDD\n",
      " 4\n",
      " [1,2,3,4]\n"
     ]
    },
    {
     "name": "stdout",
     "output_type": "stream",
     "text": [
      "[2,1]\n"
     ]
    },
    {
     "name": "stdin",
     "output_type": "stream",
     "text": [
      " DD\n",
      " 1\n",
      " [42]\n"
     ]
    },
    {
     "name": "stdout",
     "output_type": "stream",
     "text": [
      "error\n"
     ]
    },
    {
     "name": "stdin",
     "output_type": "stream",
     "text": [
      " RRD\n",
      " 6\n",
      " [1,1,2,3,5,8]\n"
     ]
    },
    {
     "name": "stdout",
     "output_type": "stream",
     "text": [
      "[1,2,3,5,8]\n"
     ]
    },
    {
     "name": "stdin",
     "output_type": "stream",
     "text": [
      " D\n",
      " 0\n",
      " []\n"
     ]
    },
    {
     "name": "stdout",
     "output_type": "stream",
     "text": [
      "error\n"
     ]
    }
   ],
   "source": [
    "from collections import deque\n",
    "\n",
    "n=int(input())\n",
    "\n",
    "for i in range(n):\n",
    "    check=0\n",
    "    length=0\n",
    "    error=False\n",
    "    order=input().rstrip()\n",
    "    num=int(input().rstrip())\n",
    "    case=input().rstrip()\n",
    "    \n",
    "    case=case[1:-1]\n",
    "    cases=case.split(',')\n",
    "    case=deque(cases)\n",
    "    \n",
    "    if case[0]=='':\n",
    "        length=0\n",
    "    else:\n",
    "        length=len(case)\n",
    "    \n",
    "    try:\n",
    "        for i in order:\n",
    "            if i=='R':\n",
    "                check+=1\n",
    "            elif i=='D':\n",
    "                if length==0:\n",
    "                    error=True\n",
    "                    break\n",
    "                elif check%2==0:\n",
    "                    case.popleft()\n",
    "                else:\n",
    "                    case.pop()\n",
    "        if error==True:\n",
    "            print('error')\n",
    "        else:\n",
    "            if check%2==0:\n",
    "                string=','.join(list(case))\n",
    "            else:\n",
    "                case.reverse()\n",
    "                string=','.join(list(case))\n",
    "            print('['+string+']')\n",
    "    except:\n",
    "        print('error')"
   ]
  }
 ],
 "metadata": {
  "kernelspec": {
   "display_name": "Python 3 (ipykernel)",
   "language": "python",
   "name": "python3"
  },
  "language_info": {
   "codemirror_mode": {
    "name": "ipython",
    "version": 3
   },
   "file_extension": ".py",
   "mimetype": "text/x-python",
   "name": "python",
   "nbconvert_exporter": "python",
   "pygments_lexer": "ipython3",
   "version": "3.9.7"
  }
 },
 "nbformat": 4,
 "nbformat_minor": 5
}
