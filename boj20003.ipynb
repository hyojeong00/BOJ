{
 "cells": [
  {
   "cell_type": "code",
   "execution_count": 36,
   "id": "428e6829-01de-41aa-a417-e88ab85efd62",
   "metadata": {},
   "outputs": [
    {
     "name": "stdin",
     "output_type": "stream",
     "text": [
      " 1\n",
      " 7 10\n"
     ]
    },
    {
     "name": "stdout",
     "output_type": "stream",
     "text": [
      "7 10\n"
     ]
    }
   ],
   "source": [
    "n=int(input())\n",
    "\n",
    "def gcd(a,b):\n",
    "    if b==0:\n",
    "        return a\n",
    "    else:\n",
    "        return gcd(b,a%b)\n",
    "\n",
    "def lcm(a,b):\n",
    "    return (a*b)//gcd(a,b)\n",
    "\n",
    "li=[]\n",
    "for i in range(n):\n",
    "    a,b=map(int,input().split())\n",
    "    li.append([a,b])\n",
    "\n",
    "li1=[]\n",
    "li2=[]\n",
    "for i in range(len(li)):\n",
    "    li1.append(li[i][0])\n",
    "    li2.append(li[i][1])\n",
    "# print(li1)\n",
    "# print(li2)\n",
    "    \n",
    "result_gcd=[]\n",
    "result_lcm=[]    \n",
    "if len(li1)==1:\n",
    "    result_gcd.append(li1[0])\n",
    "    result_lcm.append(li2[0])\n",
    "else:\n",
    "    for i in range(n):\n",
    "        for j in range(n):\n",
    "            if i<j and i!=j:\n",
    "                result_gcd.append(gcd(li1[i],li1[j]))\n",
    "                result_lcm.append(lcm(li2[i],li2[j]))\n",
    "\n",
    "# print(result_gcd)\n",
    "# print(result_lcm)\n",
    "\n",
    "if len(result_gcd)==1 and len(result_lcm)==1 :\n",
    "    print(result_gcd[0],end=' ')\n",
    "    print(result_lcm[0])\n",
    "else:\n",
    "    print(max(result_gcd),end=' ')\n",
    "    print(max(result_lcm))"
   ]
  },
  {
   "cell_type": "code",
   "execution_count": 39,
   "id": "c932ddbb-2cdf-4db7-aa10-bf960a3428ea",
   "metadata": {},
   "outputs": [
    {
     "name": "stdin",
     "output_type": "stream",
     "text": [
      " 3\n",
      " 1 3\n",
      " 5 2\n",
      " 3 4\n"
     ]
    },
    {
     "name": "stdout",
     "output_type": "stream",
     "text": [
      "1 12\n"
     ]
    }
   ],
   "source": [
    "import fractions\n",
    "def gcd(a,b):\n",
    "    if b==0:\n",
    "        return a\n",
    "    else:\n",
    "        return gcd(b,a%b)\n",
    "def lcm(a,b):\n",
    "    return a*b//gcd(a,b)\n",
    "\n",
    "n=int(input())\n",
    "g,l=0,1\n",
    "for i in range(n):\n",
    "    a,b=map(int,input().split())\n",
    "    temp=fractions.Fraction(a,b)\n",
    "    g=gcd(g,temp.numerator)  #분자\n",
    "    l=lcm(l,temp.denominator)  #분모 즉, 0이 올 수 없음\n",
    "\n",
    "print(g,l)"
   ]
  },
  {
   "cell_type": "code",
   "execution_count": null,
   "id": "a45ffea6-4eb1-4702-9157-2cd5ecdf1868",
   "metadata": {},
   "outputs": [],
   "source": []
  }
 ],
 "metadata": {
  "kernelspec": {
   "display_name": "Python 3",
   "language": "python",
   "name": "python3"
  },
  "language_info": {
   "codemirror_mode": {
    "name": "ipython",
    "version": 3
   },
   "file_extension": ".py",
   "mimetype": "text/x-python",
   "name": "python",
   "nbconvert_exporter": "python",
   "pygments_lexer": "ipython3",
   "version": "3.8.8"
  }
 },
 "nbformat": 4,
 "nbformat_minor": 5
}
