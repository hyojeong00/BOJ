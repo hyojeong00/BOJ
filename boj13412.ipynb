{
 "cells": [
  {
   "cell_type": "code",
   "execution_count": 15,
   "id": "4c3875b0-b8fc-4492-a713-80745f2ebbe4",
   "metadata": {},
   "outputs": [
    {
     "name": "stdin",
     "output_type": "stream",
     "text": [
      " 3\n",
      " 30\n"
     ]
    },
    {
     "name": "stdout",
     "output_type": "stream",
     "text": [
      "[[1, 30], [2, 15], [3, 10], [5, 6]]\n",
      "4\n"
     ]
    },
    {
     "name": "stdin",
     "output_type": "stream",
     "text": [
      " 16\n"
     ]
    },
    {
     "name": "stdout",
     "output_type": "stream",
     "text": [
      "[[1, 16], [2, 8], [4, 4]]\n",
      "1\n"
     ]
    },
    {
     "name": "stdin",
     "output_type": "stream",
     "text": [
      " 60060\n"
     ]
    },
    {
     "name": "stdout",
     "output_type": "stream",
     "text": [
      "[[1, 60060], [2, 30030], [3, 20020], [4, 15015], [5, 12012], [6, 10010], [7, 8580], [10, 6006], [11, 5460], [12, 5005], [13, 4620], [14, 4290], [15, 4004], [20, 3003], [21, 2860], [22, 2730], [26, 2310], [28, 2145], [30, 2002], [33, 1820], [35, 1716], [39, 1540], [42, 1430], [44, 1365], [52, 1155], [55, 1092], [60, 1001], [65, 924], [66, 910], [70, 858], [77, 780], [78, 770], [84, 715], [91, 660], [105, 572], [110, 546], [130, 462], [132, 455], [140, 429], [143, 420], [154, 390], [156, 385], [165, 364], [182, 330], [195, 308], [210, 286], [220, 273], [231, 260]]\n",
      "32\n"
     ]
    }
   ],
   "source": [
    "def gcd(a,b):\n",
    "    if b==0:\n",
    "        return a\n",
    "    else:\n",
    "        return gcd(b,a%b)\n",
    "\n",
    "def lcm(a,b):\n",
    "    return (a*b)//gcd(a,b)\n",
    "\n",
    "def divisor(n):\n",
    "    n=int(n)\n",
    "    divisor=[]\n",
    "    divisor_back=[]\n",
    "    for i in range(1,int(n**(1/2))+1):\n",
    "        if n%i==0:\n",
    "            divisor.append(i)\n",
    "            if i!=n//i:\n",
    "                divisor_back.append(n//i)\n",
    "    return divisor+divisor_back[::-1]\n",
    "    \n",
    "case=int(input())\n",
    "\n",
    "for i in range(case):\n",
    "    cnt=0\n",
    "    n=int(input())\n",
    "    li=divisor(n)\n",
    "    li2=[]\n",
    "    if len(li)%2==0:\n",
    "        li_1=li[:len(li)//2]\n",
    "        li_2=li[len(li)//2:]\n",
    "        li_2=li_2[::-1]\n",
    "        li2=[[x,y] for x,y in zip(li_1,li_2)]\n",
    "    else:\n",
    "        li_1=li[:len(li)//2]\n",
    "        li_2=li[len(li)//2+1:]\n",
    "        li_2=li_2[::-1]\n",
    "        li2=[[x,y] for x,y in zip(li_1,li_2)]\n",
    "        li2.append([li[len(li)//2],li[len(li)//2]])\n",
    "    \n",
    "    for j in range(len(li2)):\n",
    "        if lcm(li2[j][0],li2[j][1])==li2[j][0]*li2[j][1]:\n",
    "            cnt+=1\n",
    "        else:\n",
    "            pass\n",
    "    #print(li2)\n",
    "    print(cnt)"
   ]
  },
  {
   "cell_type": "code",
   "execution_count": null,
   "id": "03706ef4-a026-4670-8191-5bced5b45f60",
   "metadata": {},
   "outputs": [],
   "source": []
  }
 ],
 "metadata": {
  "kernelspec": {
   "display_name": "Python 3 (ipykernel)",
   "language": "python",
   "name": "python3"
  },
  "language_info": {
   "codemirror_mode": {
    "name": "ipython",
    "version": 3
   },
   "file_extension": ".py",
   "mimetype": "text/x-python",
   "name": "python",
   "nbconvert_exporter": "python",
   "pygments_lexer": "ipython3",
   "version": "3.9.7"
  }
 },
 "nbformat": 4,
 "nbformat_minor": 5
}
