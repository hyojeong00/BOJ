{
 "cells": [
  {
   "cell_type": "code",
   "execution_count": 15,
   "id": "b91ff372-8555-46c0-bcd6-c8bd54ddb844",
   "metadata": {},
   "outputs": [
    {
     "name": "stdin",
     "output_type": "stream",
     "text": [
      " 5\n",
      " 1 1 1 6 0\n",
      " 2 7 8 3 1\n"
     ]
    },
    {
     "name": "stdout",
     "output_type": "stream",
     "text": [
      "18\n"
     ]
    }
   ],
   "source": [
    "n=int(input())\n",
    "a=list(map(int,input().split()))\n",
    "b=list(map(int,input().split()))\n",
    "\n",
    "sum_ab=0\n",
    "for i in range(n):\n",
    "    sum_ab+=min(a)*max(b)  #a의 최솟값과 b의 최댓값 곱하기\n",
    "    a.pop(a.index(min(a)))\n",
    "    b.pop(b.index(max(b)))\n",
    "print(sum_ab)"
   ]
  },
  {
   "cell_type": "code",
   "execution_count": null,
   "id": "40a64466-72a1-4c39-92a8-158be486c72c",
   "metadata": {},
   "outputs": [],
   "source": []
  }
 ],
 "metadata": {
  "kernelspec": {
   "display_name": "Python 3 (ipykernel)",
   "language": "python",
   "name": "python3"
  },
  "language_info": {
   "codemirror_mode": {
    "name": "ipython",
    "version": 3
   },
   "file_extension": ".py",
   "mimetype": "text/x-python",
   "name": "python",
   "nbconvert_exporter": "python",
   "pygments_lexer": "ipython3",
   "version": "3.9.7"
  }
 },
 "nbformat": 4,
 "nbformat_minor": 5
}
