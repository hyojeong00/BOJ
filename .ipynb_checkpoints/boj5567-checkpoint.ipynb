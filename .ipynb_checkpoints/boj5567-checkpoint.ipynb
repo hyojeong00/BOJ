{
 "cells": [
  {
   "cell_type": "code",
   "execution_count": 27,
   "id": "f26e2c97-2373-4ebc-b4f2-aa663e91da8b",
   "metadata": {},
   "outputs": [
    {
     "name": "stdin",
     "output_type": "stream",
     "text": [
      " 2\n",
      " 2\n",
      " 2 1\n",
      " 3 1\n"
     ]
    },
    {
     "name": "stdout",
     "output_type": "stream",
     "text": [
      "2\n"
     ]
    }
   ],
   "source": [
    "n=int(input())  #상근이의 동기 수\n",
    "m=int(input())  #리스트의 길이\n",
    "li=[]\n",
    "result=[]\n",
    "\n",
    "for i in range(m):  #리스트의 길이만큼\n",
    "    a,b=map(int,input().split())  #친구관계 받아오기\n",
    "    li.append([a,b])\n",
    "\n",
    "for i in range(len(li)):  #리스트의 길이 만큼==m\n",
    "    if li[i][0]==1:  #첫번째 수가 1이면\n",
    "        result.append(li[i][1])  #두번째 수를 li에 append\n",
    "    elif li[i][1]==1:  #두번째 수가 1이면\n",
    "        result.append(li[i][0])  #첫번째 수를 li에 append\n",
    "    else:\n",
    "        pass\n",
    "\n",
    "for i in range(len(result)):  #result의 길이만큼\n",
    "    for j in range(m):  #리스트의 길이만큼\n",
    "        if result[i]==li[j][0]:  #result에 있는 요소가 첫번째 요소면\n",
    "            result.append(li[j][1])\n",
    "        elif result[i]==li[j][1]:  #result에 있는 요소가 두번째 요소면\n",
    "            result.append(li[j][0])\n",
    "        else:\n",
    "            pass\n",
    "\n",
    "result=set(result)  #중복 제거\n",
    "if 1 in result:  #1이 result에 들어있으면 삭제\n",
    "    result.remove(1)\n",
    "print(len(result))  #result의 길이"
   ]
  },
  {
   "cell_type": "code",
   "execution_count": null,
   "id": "68bd3f34-4292-403b-b522-a9fdc40cac09",
   "metadata": {},
   "outputs": [],
   "source": []
  }
 ],
 "metadata": {
  "kernelspec": {
   "display_name": "Python 3",
   "language": "python",
   "name": "python3"
  },
  "language_info": {
   "codemirror_mode": {
    "name": "ipython",
    "version": 3
   },
   "file_extension": ".py",
   "mimetype": "text/x-python",
   "name": "python",
   "nbconvert_exporter": "python",
   "pygments_lexer": "ipython3",
   "version": "3.8.8"
  }
 },
 "nbformat": 4,
 "nbformat_minor": 5
}
