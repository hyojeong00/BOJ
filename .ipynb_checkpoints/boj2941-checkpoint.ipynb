{
 "cells": [
  {
   "cell_type": "code",
   "execution_count": 47,
   "id": "6528852e-5eb3-4c8f-8c27-298ac92f5d8a",
   "metadata": {},
   "outputs": [
    {
     "name": "stdin",
     "output_type": "stream",
     "text": [
      " ljes=njak\n"
     ]
    },
    {
     "name": "stdout",
     "output_type": "stream",
     "text": [
      "6\n"
     ]
    }
   ],
   "source": [
    "al=['c=','c-','dz=','d-','lj','nj','s=','z=']\n",
    "s=input()\n",
    "\n",
    "for i in al:\n",
    "    if i in s:\n",
    "        s=s.replace(i,'S')\n",
    "    else:\n",
    "        pass\n",
    "\n",
    "print(len(s))"
   ]
  },
  {
   "cell_type": "code",
   "execution_count": null,
   "id": "58e0bd51-a593-4d13-92dc-a0b06b588bb3",
   "metadata": {},
   "outputs": [],
   "source": []
  }
 ],
 "metadata": {
  "kernelspec": {
   "display_name": "Python 3",
   "language": "python",
   "name": "python3"
  },
  "language_info": {
   "codemirror_mode": {
    "name": "ipython",
    "version": 3
   },
   "file_extension": ".py",
   "mimetype": "text/x-python",
   "name": "python",
   "nbconvert_exporter": "python",
   "pygments_lexer": "ipython3",
   "version": "3.8.8"
  }
 },
 "nbformat": 4,
 "nbformat_minor": 5
}
