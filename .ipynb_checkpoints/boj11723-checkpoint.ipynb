{
 "cells": [
  {
   "cell_type": "code",
   "execution_count": null,
   "id": "ec1bae90-49f1-46fa-9177-32dd1cddbc34",
   "metadata": {},
   "outputs": [],
   "source": [
    "import sys\n",
    "n=int(sys.stdin.readline().rstrip())\n",
    "li=[]\n",
    "for i in range(n):\n",
    "    a=sys.stdin.readline().rstrip().split()\n",
    "    if a[0]=='add':\n",
    "        if int(int(a[1])) not in li:\n",
    "            li.append(int(a[1]))\n",
    "        else:\n",
    "            pass\n",
    "    elif a[0]=='remove':\n",
    "        if int(a[1]) in li:\n",
    "            li.remove(int(a[1]))\n",
    "        else:\n",
    "            pass\n",
    "    elif a[0]=='check':\n",
    "        if int(a[1]) in li:\n",
    "            print(1)\n",
    "        else:\n",
    "            print(0)\n",
    "    elif a[0]=='toggle':\n",
    "        if int(a[1]) in li:\n",
    "            li.remove(int(a[1]))\n",
    "        else:\n",
    "            li.append(int(a[1]))\n",
    "    elif a[0]=='all':\n",
    "        li=list(range(1,21))\n",
    "    elif a[0]=='empty':\n",
    "        li=[]"
   ]
  }
 ],
 "metadata": {
  "kernelspec": {
   "display_name": "Python 3",
   "language": "python",
   "name": "python3"
  },
  "language_info": {
   "codemirror_mode": {
    "name": "ipython",
    "version": 3
   },
   "file_extension": ".py",
   "mimetype": "text/x-python",
   "name": "python",
   "nbconvert_exporter": "python",
   "pygments_lexer": "ipython3",
   "version": "3.8.8"
  }
 },
 "nbformat": 4,
 "nbformat_minor": 5
}
