{
 "cells": [
  {
   "cell_type": "code",
   "execution_count": 11,
   "id": "9eca759a-b8b9-416e-91af-480c3212a5b8",
   "metadata": {},
   "outputs": [
    {
     "name": "stdin",
     "output_type": "stream",
     "text": [
      " 3 4\n",
      " ohhenrie\n",
      " charlie\n",
      " bae\n",
      " obama\n",
      " ohhenrie\n",
      " bae\n",
      " clinton\n"
     ]
    },
    {
     "name": "stdout",
     "output_type": "stream",
     "text": [
      "2\n",
      "bae\n",
      "ohhenrie\n"
     ]
    }
   ],
   "source": [
    "n,m=map(int,input().split())\n",
    "li=[]\n",
    "li2=[]\n",
    "for i in range(n+m):  \n",
    "    a=input()\n",
    "    if i<n:  #듣도 못한 사람은 li에 저장\n",
    "        li.append(a)\n",
    "    else:  #보도 못한 사람은 li2에 저장\n",
    "        li2.append(a)\n",
    "\n",
    "result=[]\n",
    "for i in range(len(li)):\n",
    "    for j in range(len(li2)):\n",
    "        if li[i]==li2[j]:  #li와 li2 같으면\n",
    "            result.append(li[i])\n",
    "        \n",
    "result.sort()  #정렬\n",
    "print(len(result))\n",
    "for i in result:\n",
    "    print(i)"
   ]
  },
  {
   "cell_type": "code",
   "execution_count": 15,
   "id": "76450dcd-f3e1-47d4-9002-f8e368c10558",
   "metadata": {},
   "outputs": [
    {
     "name": "stdin",
     "output_type": "stream",
     "text": [
      " 3 4\n",
      " oh\n",
      " ch\n",
      " ba\n"
     ]
    },
    {
     "name": "stdout",
     "output_type": "stream",
     "text": [
      "{'oh': 1, 'ch': 1, 'ba': 1}\n"
     ]
    },
    {
     "name": "stdin",
     "output_type": "stream",
     "text": [
      " ob\n",
      " ba\n",
      " oh\n",
      " cl\n"
     ]
    },
    {
     "name": "stdout",
     "output_type": "stream",
     "text": [
      "2\n",
      "ba\n",
      "oh\n"
     ]
    }
   ],
   "source": [
    "n,m=map(int,input().split())\n",
    "li1=dict() #딕셔너리\n",
    "result=[]\n",
    "\n",
    "for i in range(n):\n",
    "    temp=input()\n",
    "    li1[temp]=1\n",
    "\n",
    "for i in range(m):\n",
    "    temp=input()\n",
    "    if temp in li1:  #li1에 있으면 result에 append\n",
    "        result.append(temp)\n",
    "\n",
    "result.sort()  #정렬\n",
    "print(len(result))\n",
    "for name in result:\n",
    "    print(name)"
   ]
  }
 ],
 "metadata": {
  "kernelspec": {
   "display_name": "Python 3",
   "language": "python",
   "name": "python3"
  },
  "language_info": {
   "codemirror_mode": {
    "name": "ipython",
    "version": 3
   },
   "file_extension": ".py",
   "mimetype": "text/x-python",
   "name": "python",
   "nbconvert_exporter": "python",
   "pygments_lexer": "ipython3",
   "version": "3.8.8"
  }
 },
 "nbformat": 4,
 "nbformat_minor": 5
}
