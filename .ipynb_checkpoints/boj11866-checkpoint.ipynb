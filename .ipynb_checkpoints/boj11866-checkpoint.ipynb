{
 "cells": [
  {
   "cell_type": "code",
   "execution_count": null,
   "id": "9b2358f0-3ee7-4376-9eff-8eda9440a358",
   "metadata": {},
   "outputs": [],
   "source": [
    "#1번부터 n번까지 원을 이루며 앉아있고, 순서대로 k번째 제거\n",
    "from collections import deque\n",
    "n,k=map(int,input().split())\n",
    "q=deque() #데크 사용\n",
    "li=[]\n",
    "\n",
    "for i in range(1,n+1):\n",
    "    q.append(i)\n",
    "\n",
    "while q:\n",
    "    for i in range(k-1):\n",
    "        q.append(q.popleft()) #왼쪽 pop\n",
    "    li.append(q.popleft())\n",
    "\n",
    "print('<',end='')\n",
    "for i in range(n):\n",
    "    if i==n-1:\n",
    "        print(f'{li[i]}',end='')\n",
    "    else:\n",
    "        print(f'{li[i]}, ',end='')\n",
    "print('>')"
   ]
  }
 ],
 "metadata": {
  "kernelspec": {
   "display_name": "Python 3",
   "language": "python",
   "name": "python3"
  },
  "language_info": {
   "codemirror_mode": {
    "name": "ipython",
    "version": 3
   },
   "file_extension": ".py",
   "mimetype": "text/x-python",
   "name": "python",
   "nbconvert_exporter": "python",
   "pygments_lexer": "ipython3",
   "version": "3.8.8"
  }
 },
 "nbformat": 4,
 "nbformat_minor": 5
}
