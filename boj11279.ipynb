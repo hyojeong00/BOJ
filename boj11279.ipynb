{
 "cells": [
  {
   "cell_type": "code",
   "execution_count": 20,
   "id": "f3d09527-871c-41eb-8f51-ad90f9cb6354",
   "metadata": {},
   "outputs": [],
   "source": [
    "#시간초과 ㅠㅠ\n",
    "n=int(input())\n",
    "li=[]\n",
    "\n",
    "for i in range(n):\n",
    "    a=int(input())\n",
    "    \n",
    "    if a>0:\n",
    "        li.append(a)\n",
    "    elif a==0:\n",
    "        if li==[]:\n",
    "            print(0)\n",
    "        else:\n",
    "            print(max(li))\n",
    "            li.pop(li.index(max(li)))"
   ]
  },
  {
   "cell_type": "code",
   "execution_count": 26,
   "id": "5305333f-8bae-41ee-b6be-b552f3b1c25b",
   "metadata": {},
   "outputs": [
    {
     "name": "stdin",
     "output_type": "stream",
     "text": [
      " 13\n",
      " 0\n"
     ]
    },
    {
     "name": "stdout",
     "output_type": "stream",
     "text": [
      "0\n"
     ]
    },
    {
     "name": "stdin",
     "output_type": "stream",
     "text": [
      " 1\n",
      " 2\n",
      " 0\n"
     ]
    },
    {
     "name": "stdout",
     "output_type": "stream",
     "text": [
      "2\n"
     ]
    },
    {
     "name": "stdin",
     "output_type": "stream",
     "text": [
      " 0\n"
     ]
    },
    {
     "name": "stdout",
     "output_type": "stream",
     "text": [
      "1\n"
     ]
    },
    {
     "name": "stdin",
     "output_type": "stream",
     "text": [
      " 3\n",
      " 2\n",
      " 1\n",
      " 0\n"
     ]
    },
    {
     "name": "stdout",
     "output_type": "stream",
     "text": [
      "3\n"
     ]
    },
    {
     "name": "stdin",
     "output_type": "stream",
     "text": [
      " 0\n"
     ]
    },
    {
     "name": "stdout",
     "output_type": "stream",
     "text": [
      "2\n"
     ]
    },
    {
     "name": "stdin",
     "output_type": "stream",
     "text": [
      " 0\n"
     ]
    },
    {
     "name": "stdout",
     "output_type": "stream",
     "text": [
      "1\n"
     ]
    },
    {
     "name": "stdin",
     "output_type": "stream",
     "text": [
      " 0\n"
     ]
    },
    {
     "name": "stdout",
     "output_type": "stream",
     "text": [
      "0\n"
     ]
    },
    {
     "name": "stdin",
     "output_type": "stream",
     "text": [
      " 0\n"
     ]
    },
    {
     "name": "stdout",
     "output_type": "stream",
     "text": [
      "0\n"
     ]
    }
   ],
   "source": [
    "import queue\n",
    "q=queue.PriorityQueue()\n",
    "\n",
    "n=int(input())\n",
    "\n",
    "for i in range(n):\n",
    "    a=int(input())\n",
    "    if a>0:\n",
    "        q.put((-a,a))\n",
    "    elif a==0:\n",
    "        if q.qsize()==0:\n",
    "            print(0)\n",
    "        else:\n",
    "            print(q.get()[1])"
   ]
  },
  {
   "cell_type": "code",
   "execution_count": null,
   "id": "352b481c-110b-4150-8fec-73c83d26e56a",
   "metadata": {},
   "outputs": [],
   "source": []
  }
 ],
 "metadata": {
  "kernelspec": {
   "display_name": "Python 3",
   "language": "python",
   "name": "python3"
  },
  "language_info": {
   "codemirror_mode": {
    "name": "ipython",
    "version": 3
   },
   "file_extension": ".py",
   "mimetype": "text/x-python",
   "name": "python",
   "nbconvert_exporter": "python",
   "pygments_lexer": "ipython3",
   "version": "3.8.8"
  }
 },
 "nbformat": 4,
 "nbformat_minor": 5
}
