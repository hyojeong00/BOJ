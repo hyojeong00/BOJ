{
 "cells": [
  {
   "cell_type": "code",
   "execution_count": 7,
   "id": "b7ddab6e-9958-4d25-83b2-d6131d1ac1c9",
   "metadata": {},
   "outputs": [
    {
     "name": "stdin",
     "output_type": "stream",
     "text": [
      " 5 6\n",
      " 2 5 1 4 3\n",
      " 1 5\n"
     ]
    },
    {
     "name": "stdout",
     "output_type": "stream",
     "text": [
      "15\n"
     ]
    },
    {
     "name": "stdin",
     "output_type": "stream",
     "text": [
      " 2 4\n"
     ]
    },
    {
     "name": "stdout",
     "output_type": "stream",
     "text": [
      "9\n"
     ]
    },
    {
     "name": "stdin",
     "output_type": "stream",
     "text": [
      " 3 3\n"
     ]
    },
    {
     "name": "stdout",
     "output_type": "stream",
     "text": [
      "3\n"
     ]
    },
    {
     "name": "stdin",
     "output_type": "stream",
     "text": [
      " 1 3\n"
     ]
    },
    {
     "name": "stdout",
     "output_type": "stream",
     "text": [
      "6\n"
     ]
    },
    {
     "name": "stdin",
     "output_type": "stream",
     "text": [
      " 2 5\n"
     ]
    },
    {
     "name": "stdout",
     "output_type": "stream",
     "text": [
      "14\n"
     ]
    },
    {
     "name": "stdin",
     "output_type": "stream",
     "text": [
      " 4 5\n"
     ]
    },
    {
     "name": "stdout",
     "output_type": "stream",
     "text": [
      "9\n"
     ]
    }
   ],
   "source": [
    "import sys\n",
    "input=sys.stdin.readline\n",
    "\n",
    "n,q=map(int,input().split())  #숫자 개수와 문제 개수\n",
    "a=list(map(int,input().split()))\n",
    "a.sort()  #오름차순 정렬\n",
    "#print(a)\n",
    "prefix=[]\n",
    "temp=0\n",
    "for i in a:\n",
    "    temp+=i\n",
    "    prefix.append(temp)  #누적합 리스트에 추가\n",
    "\n",
    "for i in range(q):\n",
    "    x,y=map(int,input().split())\n",
    "    if x==1:\n",
    "        print(prefix[y-1]) \n",
    "    else:\n",
    "        print(prefix[y-1]-prefix[x-2])"
   ]
  },
  {
   "cell_type": "code",
   "execution_count": null,
   "id": "f0fc5bf4-116c-4ec0-8f52-4b44a76c7e52",
   "metadata": {},
   "outputs": [],
   "source": []
  }
 ],
 "metadata": {
  "kernelspec": {
   "display_name": "Python 3 (ipykernel)",
   "language": "python",
   "name": "python3"
  },
  "language_info": {
   "codemirror_mode": {
    "name": "ipython",
    "version": 3
   },
   "file_extension": ".py",
   "mimetype": "text/x-python",
   "name": "python",
   "nbconvert_exporter": "python",
   "pygments_lexer": "ipython3",
   "version": "3.9.7"
  }
 },
 "nbformat": 4,
 "nbformat_minor": 5
}
