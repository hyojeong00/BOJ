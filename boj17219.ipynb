{
 "cells": [
  {
   "cell_type": "code",
   "execution_count": 5,
   "id": "fa9bbaea-e380-4e59-8385-1186d35d227f",
   "metadata": {},
   "outputs": [
    {
     "name": "stdin",
     "output_type": "stream",
     "text": [
      " 4 2\n",
      " noj.am UAENA\n",
      " acmicpc.net IU\n",
      " startlink.io TINKGOD\n",
      " google.com ZEZE\n",
      " startlink.io\n"
     ]
    },
    {
     "name": "stdout",
     "output_type": "stream",
     "text": [
      "TINKGOD\n"
     ]
    },
    {
     "name": "stdin",
     "output_type": "stream",
     "text": [
      " noj.am\n"
     ]
    },
    {
     "name": "stdout",
     "output_type": "stream",
     "text": [
      "UAENA\n"
     ]
    }
   ],
   "source": [
    "n,m=map(int,input().split())\n",
    "dic={}\n",
    "\n",
    "for i in range(n):\n",
    "    a,b=input().split()\n",
    "    dic[a]=b\n",
    "\n",
    "for i in range(m):\n",
    "    print(dic[input()])"
   ]
  }
 ],
 "metadata": {
  "kernelspec": {
   "display_name": "Python 3",
   "language": "python",
   "name": "python3"
  },
  "language_info": {
   "codemirror_mode": {
    "name": "ipython",
    "version": 3
   },
   "file_extension": ".py",
   "mimetype": "text/x-python",
   "name": "python",
   "nbconvert_exporter": "python",
   "pygments_lexer": "ipython3",
   "version": "3.8.8"
  }
 },
 "nbformat": 4,
 "nbformat_minor": 5
}
