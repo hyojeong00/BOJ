{
 "cells": [
  {
   "cell_type": "code",
   "execution_count": 45,
   "id": "2069c547-5c8a-48e1-a72b-22871069d83a",
   "metadata": {},
   "outputs": [
    {
     "name": "stdin",
     "output_type": "stream",
     "text": [
      " 14\n",
      " 14 26456 2 28 13228 3307 7 23149 8 6614 46298 56 4 92596\n"
     ]
    },
    {
     "name": "stdout",
     "output_type": "stream",
     "text": [
      "185192\n"
     ]
    }
   ],
   "source": [
    "n=int(input())\n",
    "a=list(map(int,input().split()))\n",
    "\n",
    "if len(a)==1:\n",
    "    print(a[0]*a[0])\n",
    "else:\n",
    "    a.sort()\n",
    "    print(a[0]*a[-1])"
   ]
  },
  {
   "cell_type": "code",
   "execution_count": null,
   "id": "c1358cf8-8ce0-44be-8345-95bebdd74522",
   "metadata": {},
   "outputs": [],
   "source": []
  }
 ],
 "metadata": {
  "kernelspec": {
   "display_name": "Python 3 (ipykernel)",
   "language": "python",
   "name": "python3"
  },
  "language_info": {
   "codemirror_mode": {
    "name": "ipython",
    "version": 3
   },
   "file_extension": ".py",
   "mimetype": "text/x-python",
   "name": "python",
   "nbconvert_exporter": "python",
   "pygments_lexer": "ipython3",
   "version": "3.9.7"
  }
 },
 "nbformat": 4,
 "nbformat_minor": 5
}
